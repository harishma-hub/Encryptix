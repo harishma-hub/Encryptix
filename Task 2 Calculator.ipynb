{
 "cells": [
  {
   "cell_type": "code",
   "execution_count": 1,
   "id": "84cdf3fc-486e-4ed6-9ebe-3c1b561834b4",
   "metadata": {},
   "outputs": [
    {
     "name": "stdin",
     "output_type": "stream",
     "text": [
      "Enter the first number:  12\n",
      "Enter the second number:  14\n"
     ]
    },
    {
     "name": "stdout",
     "output_type": "stream",
     "text": [
      "\n",
      "Choose an operation: \n",
      "1. Addition (+)\n",
      "2. Subtraction (-)\n",
      "3. Multiplication (*)\n",
      "4. Division (/)\n"
     ]
    },
    {
     "name": "stdin",
     "output_type": "stream",
     "text": [
      "\n",
      "Enter your choice (1/2/3/4):  1\n"
     ]
    },
    {
     "name": "stdout",
     "output_type": "stream",
     "text": [
      "\n",
      "12.0 + 14.0 = 26.0\n"
     ]
    }
   ],
   "source": [
    "# Simple Calculator\n",
    "\n",
    "# Function to perform the calculation\n",
    "def calculator():\n",
    "    # Input numbers\n",
    "    num1 = float(input(\"Enter the first number: \"))\n",
    "    num2 = float(input(\"Enter the second number: \"))\n",
    "\n",
    "    # Input operation choice\n",
    "    print(\"\\nChoose an operation: \")\n",
    "    print(\"1. Addition (+)\")\n",
    "    print(\"2. Subtraction (-)\")\n",
    "    print(\"3. Multiplication (*)\")\n",
    "    print(\"4. Division (/)\")\n",
    "    \n",
    "    operation = input(\"\\nEnter your choice (1/2/3/4): \")\n",
    "\n",
    "    # Perform calculation based on user input\n",
    "    if operation == '1':\n",
    "        result = num1 + num2\n",
    "        print(f\"\\n{num1} + {num2} = {result}\")\n",
    "    elif operation == '2':\n",
    "        result = num1 - num2\n",
    "        print(f\"\\n{num1} - {num2} = {result}\")\n",
    "    elif operation == '3':\n",
    "        result = num1 * num2\n",
    "        print(f\"\\n{num1} * {num2} = {result}\")\n",
    "    elif operation == '4':\n",
    "        if num2 != 0:\n",
    "            result = num1 / num2\n",
    "            print(f\"\\n{num1} / {num2} = {result}\")\n",
    "        else:\n",
    "            print(\"\\nError! Division by zero is not allowed.\")\n",
    "    else:\n",
    "        print(\"\\nInvalid operation choice. Please select 1, 2, 3, or 4.\")\n",
    "\n",
    "# Call the calculator function\n",
    "calculator()"
   ]
  },
  {
   "cell_type": "code",
   "execution_count": null,
   "id": "151d1d1c-201f-48a4-85a7-7df4ba42467a",
   "metadata": {},
   "outputs": [],
   "source": []
  }
 ],
 "metadata": {
  "kernelspec": {
   "display_name": "Python 3 (ipykernel)",
   "language": "python",
   "name": "python3"
  },
  "language_info": {
   "codemirror_mode": {
    "name": "ipython",
    "version": 3
   },
   "file_extension": ".py",
   "mimetype": "text/x-python",
   "name": "python",
   "nbconvert_exporter": "python",
   "pygments_lexer": "ipython3",
   "version": "3.12.6"
  }
 },
 "nbformat": 4,
 "nbformat_minor": 5
}
