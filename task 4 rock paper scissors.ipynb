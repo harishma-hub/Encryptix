{
 "cells": [
  {
   "cell_type": "code",
   "execution_count": 1,
   "id": "dbb0b9c2-fbca-4f8c-a7c2-d53a3680b803",
   "metadata": {},
   "outputs": [
    {
     "name": "stdout",
     "output_type": "stream",
     "text": [
      "\n",
      "Round 1\n"
     ]
    },
    {
     "name": "stdin",
     "output_type": "stream",
     "text": [
      "Choose rock, paper, or scissors:  rock\n"
     ]
    },
    {
     "name": "stdout",
     "output_type": "stream",
     "text": [
      "\n",
      "You chose: rock\n",
      "Computer chose: paper\n",
      "Computer wins!\n",
      "\n",
      "Current Score - You: 0, Computer: 1\n"
     ]
    },
    {
     "name": "stdin",
     "output_type": "stream",
     "text": [
      "\n",
      "Do you want to play another round? (yes/no):  yes\n"
     ]
    },
    {
     "name": "stdout",
     "output_type": "stream",
     "text": [
      "\n",
      "Round 2\n"
     ]
    },
    {
     "name": "stdin",
     "output_type": "stream",
     "text": [
      "Choose rock, paper, or scissors:  paper\n"
     ]
    },
    {
     "name": "stdout",
     "output_type": "stream",
     "text": [
      "\n",
      "You chose: paper\n",
      "Computer chose: scissors\n",
      "Computer wins!\n",
      "\n",
      "Current Score - You: 0, Computer: 2\n"
     ]
    },
    {
     "name": "stdin",
     "output_type": "stream",
     "text": [
      "\n",
      "Do you want to play another round? (yes/no):  no\n"
     ]
    },
    {
     "name": "stdout",
     "output_type": "stream",
     "text": [
      "\n",
      "Final Score after 2 round(s): You: 0, Computer: 2\n",
      "Thanks for playing!\n"
     ]
    }
   ],
   "source": [
    "import random\n",
    "\n",
    "# Function to get the computer's choice\n",
    "def get_computer_choice():\n",
    "    return random.choice([\"rock\", \"paper\", \"scissors\"])\n",
    "\n",
    "# Function to determine the winner\n",
    "def determine_winner(user_choice, computer_choice):\n",
    "    if user_choice == computer_choice:\n",
    "        return \"tie\"\n",
    "    elif (user_choice == \"rock\" and computer_choice == \"scissors\") or \\\n",
    "         (user_choice == \"scissors\" and computer_choice == \"paper\") or \\\n",
    "         (user_choice == \"paper\" and computer_choice == \"rock\"):\n",
    "        return \"user\"\n",
    "    else:\n",
    "        return \"computer\"\n",
    "\n",
    "# Function to display the result\n",
    "def display_result(user_choice, computer_choice, winner):\n",
    "    print(f\"\\nYou chose: {user_choice}\")\n",
    "    print(f\"Computer chose: {computer_choice}\")\n",
    "    \n",
    "    if winner == \"tie\":\n",
    "        print(\"It's a tie!\")\n",
    "    elif winner == \"user\":\n",
    "        print(\"You win!\")\n",
    "    else:\n",
    "        print(\"Computer wins!\")\n",
    "\n",
    "# Main game function\n",
    "def play_game():\n",
    "    user_score = 0\n",
    "    computer_score = 0\n",
    "    rounds = 0\n",
    "\n",
    "    print(\"Welcome to Rock-Paper-Scissors!\")\n",
    "    \n",
    "    while True:\n",
    "        # Get user input\n",
    "        user_choice = input(\"\\nChoose rock, paper, or scissors (or 'quit' to exit): \").lower()\n",
    "\n",
    "        # Allow user to exit the game\n",
    "        if user_choice == \"quit\":\n",
    "            break\n",
    "\n",
    "        # Validate user input\n",
    "        if user_choice not in [\"rock\", \"paper\", \"scissors\"]:\n",
    "            print(\"Invalid choice, please choose 'rock', 'paper', or 'scissors'.\")\n",
    "            continue\n",
    "\n",
    "        # Get computer's choice\n",
    "        computer_choice = get_computer_choice()\n",
    "\n",
    "        # Determine the winner\n",
    "        winner = determine_winner(user_choice, computer_choice)\n",
    "\n",
    "        # Display result\n",
    "        display_result(user_choice, computer_choice, winner)\n",
    "\n",
    "        # Update score\n",
    "        if winner == \"user\":\n",
    "            user_score += 1\n",
    "        elif winner == \"computer\":\n",
    "            computer_score += 1\n",
    "\n",
    "        rounds += 1\n",
    "\n",
    "        # Display current score\n",
    "        print(f\"\\nScore after {rounds} round(s): You: {user_score}, Computer: {computer_score}\")\n",
    "\n",
    "    # Display final score\n",
    "    print(f\"\\nFinal Score: You: {user_score}, Computer: {computer_score}\")\n",
    "    print(\"Thanks for playing!\")\n",
    "\n",
    "# Start the game\n",
    "play_game()"
   ]
  }
 ],
 "metadata": {
  "kernelspec": {
   "display_name": "Python 3 (ipykernel)",
   "language": "python",
   "name": "python3"
  },
  "language_info": {
   "codemirror_mode": {
    "name": "ipython",
    "version": 3
   },
   "file_extension": ".py",
   "mimetype": "text/x-python",
   "name": "python",
   "nbconvert_exporter": "python",
   "pygments_lexer": "ipython3",
   "version": "3.12.6"
  }
 },
 "nbformat": 4,
 "nbformat_minor": 5
}
