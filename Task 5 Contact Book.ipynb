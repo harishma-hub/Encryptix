{
 "cells": [
  {
   "cell_type": "code",
   "execution_count": null,
   "id": "a7f9ca8f-2333-441e-97f8-020d40b308f0",
   "metadata": {},
   "outputs": [
    {
     "name": "stdout",
     "output_type": "stream",
     "text": [
      "\n",
      "Contact Book Menu:\n",
      "1. Add Contact\n",
      "2. View Contacts\n",
      "3. Search Contact\n",
      "4. Update Contact\n",
      "5. Delete Contact\n",
      "6. Exit\n"
     ]
    },
    {
     "name": "stdin",
     "output_type": "stream",
     "text": [
      "\n",
      "Enter your choice (1-6):  1\n",
      "Enter contact name:  Harishma R\n",
      "Enter phone number:  123456\n",
      "Enter email address:  hari123@gmail.com\n",
      "Enter address:  bangalore\n"
     ]
    },
    {
     "name": "stdout",
     "output_type": "stream",
     "text": [
      "\n",
      "Contact 'Harishma R' added successfully!\n",
      "\n",
      "Contact Book Menu:\n",
      "1. Add Contact\n",
      "2. View Contacts\n",
      "3. Search Contact\n",
      "4. Update Contact\n",
      "5. Delete Contact\n",
      "6. Exit\n"
     ]
    },
    {
     "name": "stdin",
     "output_type": "stream",
     "text": [
      "\n",
      "Enter your choice (1-6):  2\n"
     ]
    },
    {
     "name": "stdout",
     "output_type": "stream",
     "text": [
      "\n",
      "Contact List:\n",
      "Name: Harishma R, Phone: 123456\n",
      "\n",
      "Contact Book Menu:\n",
      "1. Add Contact\n",
      "2. View Contacts\n",
      "3. Search Contact\n",
      "4. Update Contact\n",
      "5. Delete Contact\n",
      "6. Exit\n"
     ]
    },
    {
     "name": "stdin",
     "output_type": "stream",
     "text": [
      "\n",
      "Enter your choice (1-6):  1\n",
      "Enter contact name:  nandu\n",
      "Enter phone number:  34567\n",
      "Enter email address:  nandhu32@gmail.com\n",
      "Enter address:  bangalore\n"
     ]
    },
    {
     "name": "stdout",
     "output_type": "stream",
     "text": [
      "\n",
      "Contact 'nandu' added successfully!\n",
      "\n",
      "Contact Book Menu:\n",
      "1. Add Contact\n",
      "2. View Contacts\n",
      "3. Search Contact\n",
      "4. Update Contact\n",
      "5. Delete Contact\n",
      "6. Exit\n"
     ]
    },
    {
     "name": "stdin",
     "output_type": "stream",
     "text": [
      "\n",
      "Enter your choice (1-6):  2\n"
     ]
    },
    {
     "name": "stdout",
     "output_type": "stream",
     "text": [
      "\n",
      "Contact List:\n",
      "Name: Harishma R, Phone: 123456\n",
      "Name: nandu, Phone: 34567\n",
      "\n",
      "Contact Book Menu:\n",
      "1. Add Contact\n",
      "2. View Contacts\n",
      "3. Search Contact\n",
      "4. Update Contact\n",
      "5. Delete Contact\n",
      "6. Exit\n"
     ]
    },
    {
     "name": "stdin",
     "output_type": "stream",
     "text": [
      "\n",
      "Enter your choice (1-6):  3\n",
      "\n",
      "Enter name or phone number to search:  Harishma R\n"
     ]
    },
    {
     "name": "stdout",
     "output_type": "stream",
     "text": [
      "\n",
      "Contact Found - Name: Harishma R\n",
      "Phone: 123456, Email: hari123@gmail.com, Address: bangalore\n",
      "\n",
      "Contact Book Menu:\n",
      "1. Add Contact\n",
      "2. View Contacts\n",
      "3. Search Contact\n",
      "4. Update Contact\n",
      "5. Delete Contact\n",
      "6. Exit\n"
     ]
    }
   ],
   "source": [
    "# Contact Book Program\n",
    "\n",
    "# Initialize an empty contact book\n",
    "contacts = {}\n",
    "\n",
    "# Function to add a new contact\n",
    "def add_contact():\n",
    "    name = input(\"Enter contact name: \")\n",
    "    phone = input(\"Enter phone number: \")\n",
    "    email = input(\"Enter email address: \")\n",
    "    address = input(\"Enter address: \")\n",
    "    contacts[name] = {'Phone': phone, 'Email': email, 'Address': address}\n",
    "    print(f\"\\nContact '{name}' added successfully!\")\n",
    "\n",
    "# Function to display all contacts\n",
    "def view_contacts():\n",
    "    if not contacts:\n",
    "        print(\"\\nNo contacts found.\")\n",
    "    else:\n",
    "        print(\"\\nContact List:\")\n",
    "        for name, details in contacts.items():\n",
    "            print(f\"Name: {name}, Phone: {details['Phone']}\")\n",
    "\n",
    "# Function to search for a contact by name or phone number\n",
    "def search_contact():\n",
    "    query = input(\"\\nEnter name or phone number to search: \").lower()\n",
    "    found = False\n",
    "    for name, details in contacts.items():\n",
    "        if query == name.lower() or query == details['Phone']:\n",
    "            print(f\"\\nContact Found - Name: {name}\")\n",
    "            print(f\"Phone: {details['Phone']}, Email: {details['Email']}, Address: {details['Address']}\")\n",
    "            found = True\n",
    "            break\n",
    "    if not found:\n",
    "        print(\"\\nNo matching contact found.\")\n",
    "\n",
    "# Function to update an existing contact\n",
    "def update_contact():\n",
    "    name = input(\"\\nEnter the name of the contact to update: \")\n",
    "    if name in contacts:\n",
    "        print(f\"\\nUpdating contact '{name}'\")\n",
    "        phone = input(\"Enter new phone number (leave blank to keep current): \") or contacts[name]['Phone']\n",
    "        email = input(\"Enter new email (leave blank to keep current): \") or contacts[name]['Email']\n",
    "        address = input(\"Enter new address (leave blank to keep current): \") or contacts[name]['Address']\n",
    "        contacts[name] = {'Phone': phone, 'Email': email, 'Address': address}\n",
    "        print(f\"\\nContact '{name}' updated successfully!\")\n",
    "    else:\n",
    "        print(f\"\\nNo contact found with the name '{name}'.\")\n",
    "\n",
    "# Function to delete a contact\n",
    "def delete_contact():\n",
    "    name = input(\"\\nEnter the name of the contact to delete: \")\n",
    "    if name in contacts:\n",
    "        del contacts[name]\n",
    "        print(f\"\\nContact '{name}' deleted successfully!\")\n",
    "    else:\n",
    "        print(f\"\\nNo contact found with the name '{name}'.\")\n",
    "\n",
    "# Main function to display the user interface and handle user input\n",
    "def contact_book():\n",
    "    while True:\n",
    "        print(\"\\nContact Book Menu:\")\n",
    "        print(\"1. Add Contact\")\n",
    "        print(\"2. View Contacts\")\n",
    "        print(\"3. Search Contact\")\n",
    "        print(\"4. Update Contact\")\n",
    "        print(\"5. Delete Contact\")\n",
    "        print(\"6. Exit\")\n",
    "        \n",
    "        choice = input(\"\\nEnter your choice (1-6): \")\n",
    "\n",
    "        if choice == '1':\n",
    "            add_contact()\n",
    "        elif choice == '2':\n",
    "            view_contacts()\n",
    "        elif choice == '3':\n",
    "            search_contact()\n",
    "        elif choice == '4':\n",
    "            update_contact()\n",
    "        elif choice == '5':\n",
    "            delete_contact()\n",
    "        elif choice == '6':\n",
    "            print(\"\\nExiting Contact Book. Goodbye!\")\n",
    "            break\n",
    "        else:\n",
    "            print(\"\\nInvalid choice, please select a valid option.\")\n",
    "\n",
    "# Run the contact book\n",
    "contact_book()"
   ]
  }
 ],
 "metadata": {
  "kernelspec": {
   "display_name": "Python 3 (ipykernel)",
   "language": "python",
   "name": "python3"
  },
  "language_info": {
   "codemirror_mode": {
    "name": "ipython",
    "version": 3
   },
   "file_extension": ".py",
   "mimetype": "text/x-python",
   "name": "python",
   "nbconvert_exporter": "python",
   "pygments_lexer": "ipython3",
   "version": "3.12.6"
  }
 },
 "nbformat": 4,
 "nbformat_minor": 5
}
